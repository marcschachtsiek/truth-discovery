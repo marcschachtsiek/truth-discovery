{
 "cells": [
  {
   "cell_type": "code",
   "execution_count": 1,
   "metadata": {},
   "outputs": [],
   "source": [
    "%load_ext autoreload\n",
    "%autoreload 2"
   ]
  },
  {
   "cell_type": "code",
   "execution_count": 5,
   "metadata": {},
   "outputs": [],
   "source": [
    "import os\n",
    "import json"
   ]
  },
  {
   "cell_type": "code",
   "execution_count": 6,
   "metadata": {},
   "outputs": [],
   "source": [
    "filename = \"run-500-200-20-part3_337.json\"\n",
    "\n",
    "path = os.path.join(\"results\", filename)\n",
    "with open(path, \"r\") as f:\n",
    "    results = json.load(f)"
   ]
  },
  {
   "cell_type": "code",
   "execution_count": 19,
   "metadata": {},
   "outputs": [
    {
     "name": "stdout",
     "output_type": "stream",
     "text": [
      "dict_keys(['n_sources', 'n_dataitems', 'n_distinct', 'algorithms_info', 'experiments'])\n",
      "dict_keys(['coverage_dist', 'truth_dist', 'distinct_dist', 'spread_dist', 'optimal', 'n_claims', 'iteration_index', 'results'])\n",
      "{'name': 'TruncExponential', 'lmbda': 0.5, 'flipped': True}\n",
      "{'time': 0.038550333999999964, 'scores': [1.0, 200]}\n"
     ]
    }
   ],
   "source": [
    "results.keys()\n",
    "experiments = results['experiments']\n",
    "\n",
    "algorithms = {}\n",
    "for algo in results['algorithms_info']:\n",
    "    algorithms[algo['name']] = algo\n",
    "\n",
    "print(results.keys())\n",
    "\n",
    "print(experiments[0].keys())\n",
    "\n",
    "print(experiments[0]['coverage_dist'])\n",
    "print(experiments[0]['results']['Majority'])"
   ]
  },
  {
   "cell_type": "code",
   "execution_count": 40,
   "metadata": {},
   "outputs": [],
   "source": [
    "def results_to_dataframe(filename, folder=\"results\"):\n",
    "    path = os.path.join(\"results\", filename)\n",
    "    with open(path, \"r\") as f:\n",
    "        results = json.load(f)\n",
    "        \n",
    "    dictionary = {\n",
    "        'n_sources': results['n_sources'],\n",
    "        'n_dataitems': results['n_dataitems'],\n",
    "        'n_distinct': results['n_distinct'],\n",
    "    }\n",
    "\n",
    "    algorithms = {}\n",
    "    for algo in results['algorithms_info']:\n",
    "        algorithms[algo['name']] = algo\n",
    "\n",
    "    for experiment in results['experiments']:\n",
    "        for dist in ['coverage_dist', 'truth_dist', 'distinct_dist', 'spread_dist']:\n",
    "            if 'flipped' in experiment[dist] and experiment[dist]['flipped']:\n",
    "                dictionary[dist] = \"F_\" + experiment[dist]['name']\n",
    "            else:\n",
    "                dictionary[dist] = experiment[dist]['name']\n",
    "\n",
    "        dictionary['optimal_perc_score'] = experiment['optimal'][0]\n",
    "        dictionary['optimal_score'] = experiment['optimal'][1]\n",
    "        dictionary['n_claims'] = experiment['n_claims']\n",
    "        dictionary['iteration_index'] = experiment['iteration_index'] if 'iteration_index' in experiment else -1\n",
    "\n",
    "        for key, value in experiment['results'].items():\n",
    "            dictionary['algorithm'] = key\n",
    "            dictionary['time'] = value['time']\n",
    "            dictionary['score_perc'] = value['scores'][0]\n",
    "            dictionary['score'] = value['scores'][1]\n",
    "            print(dictionary)\n",
    "        return"
   ]
  },
  {
   "cell_type": "code",
   "execution_count": 41,
   "metadata": {},
   "outputs": [
    {
     "name": "stdout",
     "output_type": "stream",
     "text": [
      "{'n_sources': 500, 'n_dataitems': 200, 'n_distinct': 20, 'coverage_dist': 'F_TruncExponential', 'truth_dist': 'F_TruncExponential', 'distinct_dist': 'TruncExponential', 'spread_dist': 'Uniform', 'optimal_perc_score': 1.0, 'optimal_score': 200, 'n_claims': 54628, 'iteration_index': 337, 'algorithm': 'Majority', 'time': 0.038550333999999964, 'score_perc': 1.0, 'score': 200}\n",
      "{'n_sources': 500, 'n_dataitems': 200, 'n_distinct': 20, 'coverage_dist': 'F_TruncExponential', 'truth_dist': 'F_TruncExponential', 'distinct_dist': 'TruncExponential', 'spread_dist': 'Uniform', 'optimal_perc_score': 1.0, 'optimal_score': 200, 'n_claims': 54628, 'iteration_index': 337, 'algorithm': 'TruthFinder', 'time': 0.53186775, 'score_perc': 1.0, 'score': 200}\n",
      "{'n_sources': 500, 'n_dataitems': 200, 'n_distinct': 20, 'coverage_dist': 'F_TruncExponential', 'truth_dist': 'F_TruncExponential', 'distinct_dist': 'TruncExponential', 'spread_dist': 'Uniform', 'optimal_perc_score': 1.0, 'optimal_score': 200, 'n_claims': 54628, 'iteration_index': 337, 'algorithm': 'TwoEstimates', 'time': 3.3935467080000006, 'score_perc': 0.04, 'score': 8}\n",
      "{'n_sources': 500, 'n_dataitems': 200, 'n_distinct': 20, 'coverage_dist': 'F_TruncExponential', 'truth_dist': 'F_TruncExponential', 'distinct_dist': 'TruncExponential', 'spread_dist': 'Uniform', 'optimal_perc_score': 1.0, 'optimal_score': 200, 'n_claims': 54628, 'iteration_index': 337, 'algorithm': 'ThreeEstimates', 'time': 134.733083875, 'score_perc': 0.015, 'score': 3}\n"
     ]
    }
   ],
   "source": [
    "filename = \"run-500-200-20-part3_337.json\"\n",
    "results_to_dataframe(filename)"
   ]
  },
  {
   "cell_type": "code",
   "execution_count": null,
   "metadata": {},
   "outputs": [],
   "source": [
    "dictionary = {\n",
    "    'n_sources': results['n_sources'],\n",
    "    'n_dataitems': results['n_dataitems'],\n",
    "    'n_distinct': results['n_distinct'],\n",
    "    'coverage_dist':,\n",
    "    'truth_dist':,\n",
    "    'distinct_dist':,\n",
    "    'spread_dist':,\n",
    "    'optimal':,\n",
    "    'n_claims':,\n",
    "    'iteration_index':,\n",
    "    'algorithm':,\n",
    "    'time':,\n",
    "    'score':,\n",
    "    'score_perc':,\n",
    "    \n",
    "}"
   ]
  }
 ],
 "metadata": {
  "kernelspec": {
   "display_name": "pytorch",
   "language": "python",
   "name": "python3"
  },
  "language_info": {
   "codemirror_mode": {
    "name": "ipython",
    "version": 3
   },
   "file_extension": ".py",
   "mimetype": "text/x-python",
   "name": "python",
   "nbconvert_exporter": "python",
   "pygments_lexer": "ipython3",
   "version": "3.8.16"
  },
  "orig_nbformat": 4
 },
 "nbformat": 4,
 "nbformat_minor": 2
}
